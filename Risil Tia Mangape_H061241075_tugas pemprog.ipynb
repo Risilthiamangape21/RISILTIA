{
 "cells": [
  {
   "cell_type": "markdown",
   "metadata": {},
   "source": [
    "## Tugas Pengantar Pengrograman\n",
    "### Risil Tia Mangape_H061241075 (B)"
   ]
  },
  {
   "cell_type": "code",
   "execution_count": 1,
   "metadata": {},
   "outputs": [
    {
     "name": "stdout",
     "output_type": "stream",
     "text": [
      "NIM: H061241075\n",
      "Harga baju: 450000\n",
      "Total harga setelah diskon adalah: 405000.00\n"
     ]
    }
   ],
   "source": [
    "def hitung_total_harga(harga_asli, nim):\n",
    "    nim_str = ''.join(filter(str.isdigit, str(nim)))\n",
    "    tiga_angka_terakhir = int(nim_str[-3:]) if len(nim_str) >= 3 else 0\n",
    "    if tiga_angka_terakhir > 600:\n",
    "        diskon = 0.20  \n",
    "    else:\n",
    "        diskon = 0.10  \n",
    "    total_harga = harga_asli * (1 - diskon)\n",
    "    return total_harga\n",
    "nim = \"H061241075\"\n",
    "harga_asli = 450000\n",
    "total_harga = hitung_total_harga(harga_asli, nim)\n",
    "print(f\"NIM: {nim}\")\n",
    "print(f\"Harga baju: {harga_asli}\")\n",
    "print(f\"Total harga setelah diskon adalah: {total_harga:.2f}\")"
   ]
  },
  {
   "cell_type": "code",
   "execution_count": 2,
   "metadata": {},
   "outputs": [
    {
     "name": "stdout",
     "output_type": "stream",
     "text": [
      "NIM: H061241075\n",
      "Nilai: 85\n",
      "Anda mendapatkan beasiswa.\n"
     ]
    }
   ],
   "source": [
    "def cek_beasiswa(nim, nilai):\n",
    "    nim_str = ''.join(filter(str.isdigit, str(nim)))\n",
    "    tiga_angka_terakhir = int(nim_str[-3:]) if len(nim_str) >= 3 else 0\n",
    "    if tiga_angka_terakhir % 2 == 0:  \n",
    "        if nilai >= 85:\n",
    "            return \"Anda mendapatkan beasiswa.\"\n",
    "        else:\n",
    "            return \"Anda tidak mendapatkan beasiswa.\"\n",
    "    else:  \n",
    "        if nilai >= 80:\n",
    "            return \"Anda mendapatkan beasiswa.\"\n",
    "        else:\n",
    "            return \"Anda tidak mendapatkan beasiswa.\"\n",
    "nim = \"H061241075\"\n",
    "nilai = 85\n",
    "hasil = cek_beasiswa(nim, nilai)\n",
    "print(f\"NIM: {nim}\")\n",
    "print(f\"Nilai: {nilai}\")\n",
    "print(hasil)"
   ]
  },
  {
   "cell_type": "code",
   "execution_count": 3,
   "metadata": {},
   "outputs": [
    {
     "name": "stdout",
     "output_type": "stream",
     "text": [
      "NIM: H061241075\n",
      "Total belanja: 500000\n",
      "Total harga setelah diskon adalah: 425000.00\n"
     ]
    }
   ],
   "source": [
    "def hitung_total_harga(harga_asli, nim):\n",
    "    nim_str = ''.join(filter(str.isdigit, str(nim)))  \n",
    "    tiga_angka_terakhir = int(nim_str[-3:]) if len(nim_str) >= 3 else 0\n",
    "    batas_diskon = 300000 - tiga_angka_terakhir\n",
    "    if harga_asli > batas_diskon:\n",
    "        diskon = 0.15  \n",
    "    else:\n",
    "        diskon = 0.0 \n",
    "    total_harga = harga_asli * (1 - diskon)\n",
    "    return total_harga\n",
    "nim = \"H061241075\"\n",
    "total_belanja = 500000\n",
    "total_harga = hitung_total_harga(total_belanja, nim)\n",
    "print(f\"NIM: {nim}\")\n",
    "print(f\"Total belanja: {total_belanja}\")\n",
    "print(f\"Total harga setelah diskon adalah: {total_harga:.2f}\")"
   ]
  },
  {
   "cell_type": "code",
   "execution_count": 4,
   "metadata": {},
   "outputs": [
    {
     "name": "stdout",
     "output_type": "stream",
     "text": [
      "NIM: H061241075\n",
      "Total jam kerja: 70 jam\n",
      "Total gaji karyawan adalah: 5175075.00\n"
     ]
    }
   ],
   "source": [
    "def hitung_gaji(total_jam_kerja, gaji_pokok, nim):\n",
    "    nim_str = ''.join(filter(str.isdigit, str(nim)))  \n",
    "    tiga_angka_terakhir = int(nim_str[-3:]) if len(nim_str) >= 3 else 0\n",
    "    if total_jam_kerja > 50:\n",
    "        bonus = (0.15 * gaji_pokok) + tiga_angka_terakhir\n",
    "    else:\n",
    "        bonus = 0  \n",
    "    total_gaji = gaji_pokok + bonus\n",
    "    return total_gaji\n",
    "nim = \"H061241075\"\n",
    "total_jam_kerja = 70\n",
    "gaji_pokok = 4500000 \n",
    "total_gaji = hitung_gaji(total_jam_kerja, gaji_pokok, nim)\n",
    "print(f\"NIM: {nim}\")\n",
    "print(f\"Total jam kerja: {total_jam_kerja} jam\")\n",
    "print(f\"Total gaji karyawan adalah: {total_gaji:.2f}\")"
   ]
  },
  {
   "cell_type": "code",
   "execution_count": 5,
   "metadata": {},
   "outputs": [
    {
     "name": "stdout",
     "output_type": "stream",
     "text": [
      "NIM: H061241075\n",
      "Total biaya setelah diskon adalah: 450000.00\n"
     ]
    }
   ],
   "source": [
    "def hitung_total_biaya(total_pesanan, nim):\n",
    "    nim_str = ''.join(filter(str.isdigit, str(nim))) \n",
    "    tiga_angka_terakhir = int(nim_str[-3:]) if len(nim_str) >= 3 else 0\n",
    "    batas_diskon = 100000 + tiga_angka_terakhir\n",
    "    if total_pesanan > batas_diskon:\n",
    "        diskon = 0.10  \n",
    "    else:\n",
    "        diskon = 0.0  \n",
    "    total_biaya = total_pesanan * (1 - diskon)\n",
    "    return total_biaya\n",
    "total_pesanan = 500000\n",
    "nim = \"H061241075\"\n",
    "total_biaya = hitung_total_biaya(total_pesanan, nim)\n",
    "print(f\"NIM: {nim}\")\n",
    "print(f\"Total biaya setelah diskon adalah: {total_biaya:.2f}\")"
   ]
  },
  {
   "cell_type": "code",
   "execution_count": 6,
   "metadata": {},
   "outputs": [
    {
     "name": "stdout",
     "output_type": "stream",
     "text": [
      "NIM: H061241075\n",
      "Jarak lari: 10 km\n",
      "Target latihan: 5 km\n",
      "Anda berhasil memenuhi target latihan!\n"
     ]
    }
   ],
   "source": [
    "def cek_target_latihan(jarak_lari, nim):\n",
    "    nim_str = ''.join(filter(str.isdigit, str(nim)))  \n",
    "    tiga_angka_terakhir = int(nim_str[-3:]) if len(nim_str) >= 3 else 0\n",
    "    target = tiga_angka_terakhir % 10\n",
    "    if jarak_lari > target:\n",
    "        return True, target\n",
    "    else:\n",
    "        return False, target\n",
    "nim = \"H061241075\"\n",
    "jarak_lari = 10  \n",
    "berhasil, target = cek_target_latihan(jarak_lari, nim)\n",
    "print(f\"NIM: {nim}\")\n",
    "print(f\"Jarak lari: {jarak_lari} km\")\n",
    "print(f\"Target latihan: {target} km\")\n",
    "\n",
    "if berhasil:\n",
    "    print(\"Anda berhasil memenuhi target latihan!\")\n",
    "else:\n",
    "    print(\"Anda tidak berhasil memenuhi target latihan.\")"
   ]
  },
  {
   "cell_type": "code",
   "execution_count": 7,
   "metadata": {},
   "outputs": [
    {
     "name": "stdout",
     "output_type": "stream",
     "text": [
      "NIM: H061241075\n",
      "Harga tiket setelah diskon adalah: 56250.00\n"
     ]
    }
   ],
   "source": [
    "def hitung_harga_tiket(harga_asli, nim):\n",
    "    nim_str = ''.join(filter(str.isdigit, str(nim))) \n",
    "    tiga_angka_terakhir = int(nim_str[-3:]) if len(nim_str) >= 3 else 0\n",
    "    if tiga_angka_terakhir % 2 == 0:  \n",
    "        diskon = 0.50  \n",
    "    else:  \n",
    "        diskon = 0.25 \n",
    "    total_harga = harga_asli * (1 - diskon)\n",
    "    return total_harga\n",
    "harga_asli = 75000  \n",
    "nim = \"H061241075\"   \n",
    "total_harga = hitung_harga_tiket(harga_asli, nim)\n",
    "print(f\"NIM: {nim}\")\n",
    "print(f\"Harga tiket setelah diskon adalah: {total_harga:.2f}\")"
   ]
  },
  {
   "cell_type": "code",
   "execution_count": 8,
   "metadata": {},
   "outputs": [
    {
     "name": "stdout",
     "output_type": "stream",
     "text": [
      "NIM: H061241075\n",
      "Jumlah buku: 15\n",
      "Harga per buku: 85000\n",
      "Total harga setelah diskon adalah: 1083750.00\n"
     ]
    }
   ],
   "source": [
    "def hitung_total_harga(jumlah_buku, harga_per_buku, nim):\n",
    "    nim_str = ''.join(filter(str.isdigit, str(nim)))  \n",
    "    tiga_angka_terakhir = int(nim_str[-3:]) if len(nim_str) >= 3 else 0\n",
    "    total_harga = jumlah_buku * harga_per_buku\n",
    "    if jumlah_buku > 10 and tiga_angka_terakhir > 400:\n",
    "        diskon = 0.25 \n",
    "    else:\n",
    "        diskon = 0.15  \n",
    "    total_harga_setelah_diskon = total_harga * (1 - diskon)\n",
    "    return total_harga_setelah_diskon\n",
    "nim = \"H061241075\"  \n",
    "jumlah_buku = 15    \n",
    "harga_per_buku = 85000  \n",
    "total_harga = hitung_total_harga(jumlah_buku, harga_per_buku, nim)\n",
    "print(f\"NIM: {nim}\")\n",
    "print(f\"Jumlah buku: {jumlah_buku}\")\n",
    "print(f\"Harga per buku: {harga_per_buku}\")\n",
    "print(f\"Total harga setelah diskon adalah: {total_harga:.2f}\")"
   ]
  },
  {
   "cell_type": "code",
   "execution_count": 11,
   "metadata": {},
   "outputs": [
    {
     "name": "stdout",
     "output_type": "stream",
     "text": [
      "NIM: H061241075\n",
      "Hasil: Negatif\n"
     ]
    }
   ],
   "source": [
    "def cek_bilangan(nim):\n",
    "    nim_str = ''.join(filter(str.isdigit, str(nim))) \n",
    "    tiga_angka_terakhir = int(nim_str[-3:]) if len(nim_str) >= 3 else 0\n",
    "    if tiga_angka_terakhir % 2 == 0: \n",
    "        return \"Positif\"\n",
    "    else:  \n",
    "        return \"Negatif\"\n",
    "nim = \"H061241075\"  \n",
    "hasil = cek_bilangan(nim)\n",
    "print(f\"NIM: {nim}\")\n",
    "print(f\"Hasil: {hasil}\")"
   ]
  },
  {
   "cell_type": "code",
   "execution_count": 12,
   "metadata": {},
   "outputs": [
    {
     "name": "stdout",
     "output_type": "stream",
     "text": [
      "NIM: H061241075\n",
      "Hasil: Bukan Armstrong\n"
     ]
    }
   ],
   "source": [
    "def cek_bilangan_armstrong(nim):\n",
    "    nim_str = ''.join(filter(str.isdigit, str(nim)))  \n",
    "    tiga_angka_terakhir = int(nim_str[-3:]) if len(nim_str) >= 3 else 0\n",
    "    if tiga_angka_terakhir % 2 == 0:  \n",
    "        return \"Armstrong\"\n",
    "    else: \n",
    "        return \"Bukan Armstrong\"\n",
    "nim = \"H061241075\" \n",
    "hasil = cek_bilangan_armstrong(nim)\n",
    "print(f\"NIM: {nim}\")\n",
    "print(f\"Hasil: {hasil}\")"
   ]
  },
  {
   "cell_type": "code",
   "execution_count": 15,
   "metadata": {},
   "outputs": [
    {
     "name": "stdout",
     "output_type": "stream",
     "text": [
      "Daftar belanja akan dicetak sebanyak 5 kali:\n",
      "Cetakan 1: ['Sawi', 'Ikan', 'Cabe', 'Minyak']\n",
      "Cetakan 2: ['Sawi', 'Ikan', 'Cabe', 'Minyak']\n",
      "Cetakan 3: ['Sawi', 'Ikan', 'Cabe', 'Minyak']\n",
      "Cetakan 4: ['Sawi', 'Ikan', 'Cabe', 'Minyak']\n",
      "Cetakan 5: ['Sawi', 'Ikan', 'Cabe', 'Minyak']\n"
     ]
    }
   ],
   "source": [
    "def cetak_daftar_belanja(nim, daftar_belanja):\n",
    "    nim_str = ''.join(filter(str.isdigit, str(nim)))  \n",
    "    tiga_angka_terakhir = int(nim_str[-3:]) if len(nim_str) >= 3 else 0\n",
    "    jumlah_cetak = tiga_angka_terakhir % 7\n",
    "    print(f\"Daftar belanja akan dicetak sebanyak {jumlah_cetak} kali:\")\n",
    "    for i in range(jumlah_cetak):\n",
    "        print(f\"Cetakan {i + 1}: {daftar_belanja}\")\n",
    "nim = \"H061241075\" \n",
    "daftar_belanja = [\"Sawi\", \"Ikan\", \"Cabe\", \"Minyak\"] \n",
    "cetak_daftar_belanja(nim, daftar_belanja)"
   ]
  },
  {
   "cell_type": "code",
   "execution_count": 16,
   "metadata": {},
   "outputs": [
    {
     "name": "stdout",
     "output_type": "stream",
     "text": [
      "Kelipatan yang akan dicetak: 3\n",
      "Bilangan kelipatan dari 3 dari 1 sampai 50:\n",
      "3\n",
      "6\n",
      "9\n",
      "12\n",
      "15\n",
      "18\n",
      "21\n",
      "24\n",
      "27\n",
      "30\n",
      "33\n",
      "36\n",
      "39\n",
      "42\n",
      "45\n",
      "48\n"
     ]
    }
   ],
   "source": [
    "def cetak_kelipatan(nim):\n",
    "    nim_str = ''.join(filter(str.isdigit, str(nim)))  \n",
    "    tiga_angka_terakhir = int(nim_str[-3:]) if len(nim_str) >= 3 else 0\n",
    "    kelipatan = tiga_angka_terakhir % 6\n",
    "    print(f\"Kelipatan yang akan dicetak: {kelipatan}\")\n",
    "    print(\"Bilangan kelipatan dari\", kelipatan, \"dari 1 sampai 50:\")\n",
    "    for i in range(1, 50):\n",
    "        if i % kelipatan == 0 and kelipatan != 0:  \n",
    "            print(i)\n",
    "nim = \"H061241075\"  \n",
    "cetak_kelipatan(nim)"
   ]
  },
  {
   "cell_type": "code",
   "execution_count": 17,
   "metadata": {},
   "outputs": [
    {
     "name": "stdout",
     "output_type": "stream",
     "text": [
      "Tabel Perkalian untuk 3:\n",
      "3 x 1 = 3\n",
      "3 x 2 = 6\n",
      "3 x 3 = 9\n",
      "3 x 4 = 12\n",
      "3 x 5 = 15\n",
      "3 x 6 = 18\n",
      "3 x 7 = 21\n",
      "3 x 8 = 24\n",
      "3 x 9 = 27\n",
      "3 x 10 = 30\n"
     ]
    }
   ],
   "source": [
    "def cetak_tabel_perkalian(nim):\n",
    "    nim_str = ''.join(filter(str.isdigit, str(nim)))  \n",
    "    tiga_angka_terakhir = int(nim_str[-3:]) if len(nim_str) >= 3 else 0\n",
    "    bilangan = tiga_angka_terakhir % 8\n",
    "    print(f\"Tabel Perkalian untuk {bilangan}:\")\n",
    "    for i in range(1, 11):  \n",
    "        hasil = bilangan * i\n",
    "        print(f\"{bilangan} x {i} = {hasil}\")\n",
    "nim = \"H061241075\"\n",
    "cetak_tabel_perkalian(nim)"
   ]
  },
  {
   "cell_type": "code",
   "execution_count": 48,
   "metadata": {},
   "outputs": [
    {
     "name": "stdout",
     "output_type": "stream",
     "text": [
      "Pola bintang dengan sisi 0:\n"
     ]
    }
   ],
   "source": [
    "def cetak_pola_bintang(nim):\n",
    "    nim_str = ''.join(filter(str.isdigit, str(nim)))  \n",
    "    tiga_angka_terakhir = int(nim_str[-3:]) if len(nim_str) >= 3 else 0\n",
    "    sisi = tiga_angka_terakhir % 5\n",
    "    print(f\"Pola bintang dengan sisi {sisi}:\")\n",
    "    for i in range(sisi):\n",
    "        print('* ' * sisi)\n",
    "nim = \"H061241075\"  \n",
    "cetak_pola_bintang(nim)"
   ]
  },
  {
   "cell_type": "code",
   "execution_count": 36,
   "metadata": {},
   "outputs": [
    {
     "name": "stdout",
     "output_type": "stream",
     "text": [
      "Bilangan komposit dari 1 sampai 75:\n",
      "4\n",
      "6\n",
      "8\n",
      "9\n",
      "10\n",
      "12\n",
      "14\n",
      "15\n",
      "16\n",
      "18\n",
      "20\n",
      "21\n",
      "22\n",
      "24\n",
      "25\n",
      "26\n",
      "27\n",
      "28\n",
      "30\n",
      "32\n",
      "33\n",
      "34\n",
      "35\n",
      "36\n",
      "38\n",
      "39\n",
      "40\n",
      "42\n",
      "44\n",
      "45\n",
      "46\n",
      "48\n",
      "49\n",
      "50\n",
      "51\n",
      "52\n",
      "54\n",
      "55\n",
      "56\n",
      "57\n",
      "58\n",
      "60\n",
      "62\n",
      "63\n",
      "64\n",
      "65\n",
      "66\n",
      "68\n",
      "69\n",
      "70\n",
      "72\n",
      "74\n",
      "75\n"
     ]
    }
   ],
   "source": [
    "def is_komposit(n):\n",
    "    if n < 4: \n",
    "        return False\n",
    "    for i in range(2, int(n**0.5) + 1):\n",
    "        if n % i == 0:\n",
    "            return True\n",
    "    return False\n",
    "\n",
    "def cetak_bilangan_komposit(nim):\n",
    "    nim_str = ''.join(filter(str.isdigit, str(nim)))  \n",
    "    tiga_angka_terakhir = int(nim_str[-3:]) if len(nim_str) >= 3 else 0\n",
    "    print(f\"Bilangan komposit dari 1 sampai {tiga_angka_terakhir}:\")\n",
    "    for i in range(1, tiga_angka_terakhir + 1):\n",
    "        if is_komposit(i):\n",
    "            print(i)\n",
    "nim = \"H061241075\"  \n",
    "cetak_bilangan_komposit(nim)"
   ]
  },
  {
   "cell_type": "code",
   "execution_count": 38,
   "metadata": {},
   "outputs": [
    {
     "name": "stdout",
     "output_type": "stream",
     "text": [
      "Deret kuadrat dari 1 sampai 5:\n",
      "1\n",
      "4\n",
      "9\n",
      "16\n",
      "25\n"
     ]
    }
   ],
   "source": [
    "def cetak_deret_kuadrat(nim):\n",
    "    nim_str = ''.join(filter(str.isdigit, str(nim)))  \n",
    "    tiga_angka_terakhir = int(nim_str[-3:]) if len(nim_str) >= 3 else 0\n",
    "    batas = tiga_angka_terakhir % 10\n",
    "    print(f\"Deret kuadrat dari 1 sampai {batas}:\")\n",
    "    for i in range(1, batas + 1):\n",
    "        kuadrat = i ** 2\n",
    "        print(kuadrat)\n",
    "nim = \"H061241075\"  \n",
    "cetak_deret_kuadrat(nim)"
   ]
  },
  {
   "cell_type": "code",
   "execution_count": 39,
   "metadata": {},
   "outputs": [
    {
     "name": "stdout",
     "output_type": "stream",
     "text": [
      "Kelipatan yang akan dicetak: 5\n",
      "Bilangan kelipatan dari 5 dari 1 sampai 100:\n",
      "5\n",
      "10\n",
      "15\n",
      "20\n",
      "25\n",
      "30\n",
      "35\n",
      "40\n",
      "45\n",
      "50\n",
      "55\n",
      "60\n",
      "65\n",
      "70\n",
      "75\n",
      "80\n",
      "85\n",
      "90\n",
      "95\n",
      "100\n"
     ]
    }
   ],
   "source": [
    "def cetak_kelipatan(nim):\n",
    "    nim_str = ''.join(filter(str.isdigit, str(nim)))  \n",
    "    tiga_angka_terakhir = int(nim_str[-3:]) if len(nim_str) >= 3 else 0\n",
    "    kelipatan = tiga_angka_terakhir % 7\n",
    "    print(f\"Kelipatan yang akan dicetak: {kelipatan}\")\n",
    "    print(f\"Bilangan kelipatan dari {kelipatan} dari 1 sampai 100:\")\n",
    "    for i in range(1, 101):\n",
    "        if i % kelipatan == 0 and kelipatan != 0:  \n",
    "            print(i)\n",
    "nim = \"H061241075\"  \n",
    "cetak_kelipatan(nim)"
   ]
  },
  {
   "cell_type": "code",
   "execution_count": 40,
   "metadata": {},
   "outputs": [
    {
     "name": "stdout",
     "output_type": "stream",
     "text": [
      "Bilangan genap dari 2 sampai 75:\n",
      "2\n",
      "4\n",
      "6\n",
      "8\n",
      "10\n",
      "12\n",
      "14\n",
      "16\n",
      "18\n",
      "20\n",
      "22\n",
      "24\n",
      "26\n",
      "28\n",
      "30\n",
      "32\n",
      "34\n",
      "36\n",
      "38\n",
      "40\n",
      "42\n",
      "44\n",
      "46\n",
      "48\n",
      "50\n",
      "52\n",
      "54\n",
      "56\n",
      "58\n",
      "60\n",
      "62\n",
      "64\n",
      "66\n",
      "68\n",
      "70\n",
      "72\n",
      "74\n"
     ]
    }
   ],
   "source": [
    "def cetak_bilangan_genap(nim):\n",
    "    nim_str = ''.join(filter(str.isdigit, str(nim)))  \n",
    "    tiga_angka_terakhir = int(nim_str[-3:]) if len(nim_str) >= 3 else 0\n",
    "    print(f\"Bilangan genap dari 2 sampai {tiga_angka_terakhir}:\")\n",
    "    for i in range(2, tiga_angka_terakhir + 1, 2):\n",
    "        print(i)\n",
    "nim = \"H061241075\"  \n",
    "cetak_bilangan_genap(nim)"
   ]
  },
  {
   "cell_type": "code",
   "execution_count": 41,
   "metadata": {},
   "outputs": [
    {
     "name": "stdout",
     "output_type": "stream",
     "text": [
      "Faktorial dari 3 adalah: 6\n"
     ]
    }
   ],
   "source": [
    "def faktorial(n):\n",
    "    if n < 0:\n",
    "        return None\n",
    "    elif n == 0 or n == 1:\n",
    "        return 1\n",
    "    else:\n",
    "        hasil = 1\n",
    "        for i in range(2, n + 1):\n",
    "            hasil *= i\n",
    "        return hasil\n",
    "\n",
    "def cetak_faktorial(nim):\n",
    "    nim_str = ''.join(filter(str.isdigit, str(nim)))  \n",
    "    tiga_angka_terakhir = int(nim_str[-3:]) if len(nim_str) >= 3 else 0\n",
    "    nilai = tiga_angka_terakhir % 6\n",
    "    faktorial_nilai = faktorial(nilai)\n",
    "    print(f\"Faktorial dari {nilai} adalah: {faktorial_nilai}\")\n",
    "nim = \"H061241075\"  \n",
    "cetak_faktorial(nim)"
   ]
  },
  {
   "cell_type": "code",
   "execution_count": 51,
   "metadata": {},
   "outputs": [
    {
     "name": "stdout",
     "output_type": "stream",
     "text": [
      "Pesan akan dicetak sebanyak 3 kali:\n",
      "Terima kasih banyak\n",
      "Terima kasih banyak\n",
      "Terima kasih banyak\n"
     ]
    }
   ],
   "source": [
    "def cetak_pesan(nim):\n",
    "   nim_str = ''.join(filter(str.isdigit, str(nim)))  \n",
    "   tiga_angka_terakhir = int(nim_str[-3:]) if len(nim_str) >= 3 else 0\n",
    "   jumlah_cetak = tiga_angka_terakhir % 4\n",
    "   print(f\"Pesan akan dicetak sebanyak {jumlah_cetak} kali:\")\n",
    "   for _ in range(jumlah_cetak):\n",
    "        print(\"Terima kasih banyak\")\n",
    "nim = \"H061241075\" \n",
    "cetak_pesan(nim)"
   ]
  }
 ],
 "metadata": {
  "kernelspec": {
   "display_name": "Python 3",
   "language": "python",
   "name": "python3"
  },
  "language_info": {
   "codemirror_mode": {
    "name": "ipython",
    "version": 3
   },
   "file_extension": ".py",
   "mimetype": "text/x-python",
   "name": "python",
   "nbconvert_exporter": "python",
   "pygments_lexer": "ipython3",
   "version": "3.13.2"
  }
 },
 "nbformat": 4,
 "nbformat_minor": 2
}
